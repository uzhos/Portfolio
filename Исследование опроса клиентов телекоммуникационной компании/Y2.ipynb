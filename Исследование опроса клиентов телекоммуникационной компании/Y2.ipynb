{
 "cells": [
  {
   "cell_type": "markdown",
   "id": "fa337c91",
   "metadata": {},
   "source": [
    "<b>Определение NPS среди клиентов из России </b>"
   ]
  },
  {
   "cell_type": "markdown",
   "id": "2a8e16ff",
   "metadata": {},
   "source": [
    "Задачи проекта: Исследование опроса клиентов телекомунникацонной компании.\n",
    "Подключимся к файлу базы данных. Иследуем его, соединим в нужный нам датафрейм. И уже его будем визуализировать и анализировать в Tableau.\n"
   ]
  },
  {
   "cell_type": "code",
   "execution_count": 1,
   "id": "db0830a3",
   "metadata": {},
   "outputs": [],
   "source": [
    "import os\n",
    "import pandas as pd\n",
    "from sqlalchemy import create_engine\n",
    "pd.set_option('display.max_columns', None)"
   ]
  },
  {
   "cell_type": "code",
   "execution_count": 2,
   "id": "fc60c2a1",
   "metadata": {},
   "outputs": [],
   "source": [
    "path_to_db_local = '......'\n",
    "path_to_db = None"
   ]
  },
  {
   "cell_type": "code",
   "execution_count": 3,
   "id": "c4c5dca4",
   "metadata": {},
   "outputs": [],
   "source": [
    "if os.path.exists(path_to_db_local):\n",
    "    path_to_db = path_to_db_local\n",
    "else:\n",
    "    raise Exception('Файл с базой данных SQLite не найден!')\n",
    "if path_to_db:\n",
    "    # то создаём подключение к базе\n",
    "    engine = create_engine(f'sqlite:///{path_to_db}', echo=False)\n",
    "    \n",
    "    # возьмем сразу перечислим в select нужные поля\n",
    "    # Используем оператор CASE для столбцов is_new, gender_segment, nps_score\n",
    "    query1 = \"\"\"\n",
    "    SELECT *\n",
    "    FROM location;\n",
    "    \"\"\"\n",
    "    query2 = \"\"\"\n",
    "    SELECT *\n",
    "    FROM age_segment;\n",
    "    \"\"\"\n",
    "   \n",
    "    query3 = \"\"\"\n",
    "    SELECT *\n",
    "    FROM traffic_segment;\n",
    "    \"\"\"\n",
    "    query4 = \"\"\"\n",
    "    SELECT *\n",
    "    FROM lifetime_segment;\n",
    "    \"\"\"\n",
    "    query5 = \"\"\"\n",
    "    SELECT *\n",
    "    FROM user;\n",
    "    \"\"\"\n",
    "    \n",
    "    # создаём датафрейм по данным запроса\n",
    "    df1 = pd.read_sql(query1, engine)\n",
    "    df2 = pd.read_sql(query2, engine)\n",
    "    df3 = pd.read_sql(query3, engine)\n",
    "    df4 = pd.read_sql(query4, engine)\n",
    "    df5 = pd.read_sql(query5, engine)"
   ]
  },
  {
   "cell_type": "code",
   "execution_count": 5,
   "id": "25c95cad",
   "metadata": {},
   "outputs": [
    {
     "name": "stdout",
     "output_type": "stream",
     "text": [
      "<class 'pandas.core.frame.DataFrame'>\n",
      "RangeIndex: 62 entries, 0 to 61\n",
      "Data columns (total 3 columns):\n",
      " #   Column       Non-Null Count  Dtype \n",
      "---  ------       --------------  ----- \n",
      " 0   location_id  62 non-null     int64 \n",
      " 1   city         62 non-null     object\n",
      " 2   country      62 non-null     object\n",
      "dtypes: int64(1), object(2)\n",
      "memory usage: 1.6+ KB\n"
     ]
    },
    {
     "data": {
      "text/html": [
       "<div>\n",
       "<style scoped>\n",
       "    .dataframe tbody tr th:only-of-type {\n",
       "        vertical-align: middle;\n",
       "    }\n",
       "\n",
       "    .dataframe tbody tr th {\n",
       "        vertical-align: top;\n",
       "    }\n",
       "\n",
       "    .dataframe thead th {\n",
       "        text-align: right;\n",
       "    }\n",
       "</style>\n",
       "<table border=\"1\" class=\"dataframe\">\n",
       "  <thead>\n",
       "    <tr style=\"text-align: right;\">\n",
       "      <th></th>\n",
       "      <th>location_id</th>\n",
       "      <th>city</th>\n",
       "      <th>country</th>\n",
       "    </tr>\n",
       "  </thead>\n",
       "  <tbody>\n",
       "    <tr>\n",
       "      <th>0</th>\n",
       "      <td>1</td>\n",
       "      <td>Архангельск</td>\n",
       "      <td>Россия</td>\n",
       "    </tr>\n",
       "    <tr>\n",
       "      <th>1</th>\n",
       "      <td>2</td>\n",
       "      <td>Астрахань</td>\n",
       "      <td>Россия</td>\n",
       "    </tr>\n",
       "    <tr>\n",
       "      <th>2</th>\n",
       "      <td>3</td>\n",
       "      <td>Балашиха</td>\n",
       "      <td>Россия</td>\n",
       "    </tr>\n",
       "    <tr>\n",
       "      <th>3</th>\n",
       "      <td>4</td>\n",
       "      <td>Барнаул</td>\n",
       "      <td>Россия</td>\n",
       "    </tr>\n",
       "    <tr>\n",
       "      <th>4</th>\n",
       "      <td>5</td>\n",
       "      <td>Белгород</td>\n",
       "      <td>Россия</td>\n",
       "    </tr>\n",
       "    <tr>\n",
       "      <th>...</th>\n",
       "      <td>...</td>\n",
       "      <td>...</td>\n",
       "      <td>...</td>\n",
       "    </tr>\n",
       "    <tr>\n",
       "      <th>57</th>\n",
       "      <td>58</td>\n",
       "      <td>Челябинск</td>\n",
       "      <td>Россия</td>\n",
       "    </tr>\n",
       "    <tr>\n",
       "      <th>58</th>\n",
       "      <td>59</td>\n",
       "      <td>Череповец</td>\n",
       "      <td>Россия</td>\n",
       "    </tr>\n",
       "    <tr>\n",
       "      <th>59</th>\n",
       "      <td>60</td>\n",
       "      <td>Чита</td>\n",
       "      <td>Россия</td>\n",
       "    </tr>\n",
       "    <tr>\n",
       "      <th>60</th>\n",
       "      <td>61</td>\n",
       "      <td>Якутск</td>\n",
       "      <td>Россия</td>\n",
       "    </tr>\n",
       "    <tr>\n",
       "      <th>61</th>\n",
       "      <td>62</td>\n",
       "      <td>Ярославль</td>\n",
       "      <td>Россия</td>\n",
       "    </tr>\n",
       "  </tbody>\n",
       "</table>\n",
       "<p>62 rows × 3 columns</p>\n",
       "</div>"
      ],
      "text/plain": [
       "    location_id         city country\n",
       "0             1  Архангельск  Россия\n",
       "1             2    Астрахань  Россия\n",
       "2             3     Балашиха  Россия\n",
       "3             4      Барнаул  Россия\n",
       "4             5     Белгород  Россия\n",
       "..          ...          ...     ...\n",
       "57           58    Челябинск  Россия\n",
       "58           59    Череповец  Россия\n",
       "59           60         Чита  Россия\n",
       "60           61       Якутск  Россия\n",
       "61           62    Ярославль  Россия\n",
       "\n",
       "[62 rows x 3 columns]"
      ]
     },
     "execution_count": 5,
     "metadata": {},
     "output_type": "execute_result"
    }
   ],
   "source": [
    "df1.info() # Дата сет с локацией.\n",
    "df1\n",
    "# Нет пустых ячеек - Страна - Россия, в city - перечислены города"
   ]
  },
  {
   "cell_type": "code",
   "execution_count": 6,
   "id": "2f6d0c41",
   "metadata": {},
   "outputs": [
    {
     "name": "stdout",
     "output_type": "stream",
     "text": [
      "<class 'pandas.core.frame.DataFrame'>\n",
      "RangeIndex: 8 entries, 0 to 7\n",
      "Data columns (total 4 columns):\n",
      " #   Column      Non-Null Count  Dtype  \n",
      "---  ------      --------------  -----  \n",
      " 0   age_gr_id   8 non-null      int64  \n",
      " 1   bucket_min  6 non-null      float64\n",
      " 2   bucket_max  6 non-null      float64\n",
      " 3   title       8 non-null      object \n",
      "dtypes: float64(2), int64(1), object(1)\n",
      "memory usage: 384.0+ bytes\n"
     ]
    },
    {
     "data": {
      "text/html": [
       "<div>\n",
       "<style scoped>\n",
       "    .dataframe tbody tr th:only-of-type {\n",
       "        vertical-align: middle;\n",
       "    }\n",
       "\n",
       "    .dataframe tbody tr th {\n",
       "        vertical-align: top;\n",
       "    }\n",
       "\n",
       "    .dataframe thead th {\n",
       "        text-align: right;\n",
       "    }\n",
       "</style>\n",
       "<table border=\"1\" class=\"dataframe\">\n",
       "  <thead>\n",
       "    <tr style=\"text-align: right;\">\n",
       "      <th></th>\n",
       "      <th>age_gr_id</th>\n",
       "      <th>bucket_min</th>\n",
       "      <th>bucket_max</th>\n",
       "      <th>title</th>\n",
       "    </tr>\n",
       "  </thead>\n",
       "  <tbody>\n",
       "    <tr>\n",
       "      <th>0</th>\n",
       "      <td>1</td>\n",
       "      <td>NaN</td>\n",
       "      <td>15.0</td>\n",
       "      <td>01 до 16</td>\n",
       "    </tr>\n",
       "    <tr>\n",
       "      <th>1</th>\n",
       "      <td>2</td>\n",
       "      <td>16.0</td>\n",
       "      <td>24.0</td>\n",
       "      <td>02 16-24</td>\n",
       "    </tr>\n",
       "    <tr>\n",
       "      <th>2</th>\n",
       "      <td>3</td>\n",
       "      <td>25.0</td>\n",
       "      <td>34.0</td>\n",
       "      <td>03 25-34</td>\n",
       "    </tr>\n",
       "    <tr>\n",
       "      <th>3</th>\n",
       "      <td>4</td>\n",
       "      <td>35.0</td>\n",
       "      <td>44.0</td>\n",
       "      <td>04 35-44</td>\n",
       "    </tr>\n",
       "    <tr>\n",
       "      <th>4</th>\n",
       "      <td>5</td>\n",
       "      <td>45.0</td>\n",
       "      <td>54.0</td>\n",
       "      <td>05 45-54</td>\n",
       "    </tr>\n",
       "    <tr>\n",
       "      <th>5</th>\n",
       "      <td>6</td>\n",
       "      <td>55.0</td>\n",
       "      <td>64.0</td>\n",
       "      <td>06 55-64</td>\n",
       "    </tr>\n",
       "    <tr>\n",
       "      <th>6</th>\n",
       "      <td>7</td>\n",
       "      <td>66.0</td>\n",
       "      <td>NaN</td>\n",
       "      <td>07 66 +</td>\n",
       "    </tr>\n",
       "    <tr>\n",
       "      <th>7</th>\n",
       "      <td>8</td>\n",
       "      <td>NaN</td>\n",
       "      <td>NaN</td>\n",
       "      <td>08 n/a</td>\n",
       "    </tr>\n",
       "  </tbody>\n",
       "</table>\n",
       "</div>"
      ],
      "text/plain": [
       "   age_gr_id  bucket_min  bucket_max     title\n",
       "0          1         NaN        15.0  01 до 16\n",
       "1          2        16.0        24.0  02 16-24\n",
       "2          3        25.0        34.0  03 25-34\n",
       "3          4        35.0        44.0  04 35-44\n",
       "4          5        45.0        54.0  05 45-54\n",
       "5          6        55.0        64.0  06 55-64\n",
       "6          7        66.0         NaN   07 66 +\n",
       "7          8         NaN         NaN    08 n/a"
      ]
     },
     "execution_count": 6,
     "metadata": {},
     "output_type": "execute_result"
    }
   ],
   "source": [
    "df2.info() # датасет с возрастом\n",
    "df2\n",
    "# Датасет с возрастом. Есть пустая ячейка в bucket_min при 1 группе возраста (от 1 до 16 лет).\n",
    "# И есть группа 08 - которая наверног не указала свой возраст при опросе."
   ]
  },
  {
   "cell_type": "code",
   "execution_count": 7,
   "id": "d116b337",
   "metadata": {},
   "outputs": [
    {
     "name": "stdout",
     "output_type": "stream",
     "text": [
      "<class 'pandas.core.frame.DataFrame'>\n",
      "RangeIndex: 25 entries, 0 to 24\n",
      "Data columns (total 4 columns):\n",
      " #   Column      Non-Null Count  Dtype  \n",
      "---  ------      --------------  -----  \n",
      " 0   tr_gr_id    25 non-null     int64  \n",
      " 1   bucket_min  25 non-null     float64\n",
      " 2   bucket_max  24 non-null     float64\n",
      " 3   title       25 non-null     object \n",
      "dtypes: float64(2), int64(1), object(1)\n",
      "memory usage: 928.0+ bytes\n"
     ]
    },
    {
     "data": {
      "text/html": [
       "<div>\n",
       "<style scoped>\n",
       "    .dataframe tbody tr th:only-of-type {\n",
       "        vertical-align: middle;\n",
       "    }\n",
       "\n",
       "    .dataframe tbody tr th {\n",
       "        vertical-align: top;\n",
       "    }\n",
       "\n",
       "    .dataframe thead th {\n",
       "        text-align: right;\n",
       "    }\n",
       "</style>\n",
       "<table border=\"1\" class=\"dataframe\">\n",
       "  <thead>\n",
       "    <tr style=\"text-align: right;\">\n",
       "      <th></th>\n",
       "      <th>tr_gr_id</th>\n",
       "      <th>bucket_min</th>\n",
       "      <th>bucket_max</th>\n",
       "      <th>title</th>\n",
       "    </tr>\n",
       "  </thead>\n",
       "  <tbody>\n",
       "    <tr>\n",
       "      <th>0</th>\n",
       "      <td>1</td>\n",
       "      <td>0.00</td>\n",
       "      <td>0.00</td>\n",
       "      <td>01 0</td>\n",
       "    </tr>\n",
       "    <tr>\n",
       "      <th>1</th>\n",
       "      <td>2</td>\n",
       "      <td>0.00</td>\n",
       "      <td>0.01</td>\n",
       "      <td>01 0-0.01</td>\n",
       "    </tr>\n",
       "    <tr>\n",
       "      <th>2</th>\n",
       "      <td>3</td>\n",
       "      <td>0.01</td>\n",
       "      <td>0.10</td>\n",
       "      <td>02 0.01-0.1</td>\n",
       "    </tr>\n",
       "    <tr>\n",
       "      <th>3</th>\n",
       "      <td>4</td>\n",
       "      <td>0.10</td>\n",
       "      <td>1.00</td>\n",
       "      <td>03 0.1-1</td>\n",
       "    </tr>\n",
       "    <tr>\n",
       "      <th>4</th>\n",
       "      <td>5</td>\n",
       "      <td>1.00</td>\n",
       "      <td>5.00</td>\n",
       "      <td>04 1-5</td>\n",
       "    </tr>\n",
       "    <tr>\n",
       "      <th>5</th>\n",
       "      <td>6</td>\n",
       "      <td>5.00</td>\n",
       "      <td>10.00</td>\n",
       "      <td>05 5-10</td>\n",
       "    </tr>\n",
       "    <tr>\n",
       "      <th>6</th>\n",
       "      <td>7</td>\n",
       "      <td>10.00</td>\n",
       "      <td>15.00</td>\n",
       "      <td>06 10-15</td>\n",
       "    </tr>\n",
       "    <tr>\n",
       "      <th>7</th>\n",
       "      <td>8</td>\n",
       "      <td>15.00</td>\n",
       "      <td>20.00</td>\n",
       "      <td>07 15-20</td>\n",
       "    </tr>\n",
       "    <tr>\n",
       "      <th>8</th>\n",
       "      <td>9</td>\n",
       "      <td>20.00</td>\n",
       "      <td>25.00</td>\n",
       "      <td>08 20-25</td>\n",
       "    </tr>\n",
       "    <tr>\n",
       "      <th>9</th>\n",
       "      <td>10</td>\n",
       "      <td>25.00</td>\n",
       "      <td>30.00</td>\n",
       "      <td>09 25-30</td>\n",
       "    </tr>\n",
       "    <tr>\n",
       "      <th>10</th>\n",
       "      <td>11</td>\n",
       "      <td>30.00</td>\n",
       "      <td>35.00</td>\n",
       "      <td>10 30-35</td>\n",
       "    </tr>\n",
       "    <tr>\n",
       "      <th>11</th>\n",
       "      <td>12</td>\n",
       "      <td>35.00</td>\n",
       "      <td>40.00</td>\n",
       "      <td>11 35-40</td>\n",
       "    </tr>\n",
       "    <tr>\n",
       "      <th>12</th>\n",
       "      <td>13</td>\n",
       "      <td>40.00</td>\n",
       "      <td>45.00</td>\n",
       "      <td>12 40-45</td>\n",
       "    </tr>\n",
       "    <tr>\n",
       "      <th>13</th>\n",
       "      <td>14</td>\n",
       "      <td>45.00</td>\n",
       "      <td>50.00</td>\n",
       "      <td>13 45-50</td>\n",
       "    </tr>\n",
       "    <tr>\n",
       "      <th>14</th>\n",
       "      <td>15</td>\n",
       "      <td>50.00</td>\n",
       "      <td>55.00</td>\n",
       "      <td>14 50-55</td>\n",
       "    </tr>\n",
       "    <tr>\n",
       "      <th>15</th>\n",
       "      <td>16</td>\n",
       "      <td>55.00</td>\n",
       "      <td>60.00</td>\n",
       "      <td>15 55-60</td>\n",
       "    </tr>\n",
       "    <tr>\n",
       "      <th>16</th>\n",
       "      <td>17</td>\n",
       "      <td>60.00</td>\n",
       "      <td>65.00</td>\n",
       "      <td>16 60-65</td>\n",
       "    </tr>\n",
       "    <tr>\n",
       "      <th>17</th>\n",
       "      <td>18</td>\n",
       "      <td>65.00</td>\n",
       "      <td>70.00</td>\n",
       "      <td>17 65-70</td>\n",
       "    </tr>\n",
       "    <tr>\n",
       "      <th>18</th>\n",
       "      <td>19</td>\n",
       "      <td>70.00</td>\n",
       "      <td>75.00</td>\n",
       "      <td>18 70-75</td>\n",
       "    </tr>\n",
       "    <tr>\n",
       "      <th>19</th>\n",
       "      <td>20</td>\n",
       "      <td>75.00</td>\n",
       "      <td>80.00</td>\n",
       "      <td>19 75-80</td>\n",
       "    </tr>\n",
       "    <tr>\n",
       "      <th>20</th>\n",
       "      <td>21</td>\n",
       "      <td>80.00</td>\n",
       "      <td>85.00</td>\n",
       "      <td>20 80-85</td>\n",
       "    </tr>\n",
       "    <tr>\n",
       "      <th>21</th>\n",
       "      <td>22</td>\n",
       "      <td>85.00</td>\n",
       "      <td>90.00</td>\n",
       "      <td>21 85-90</td>\n",
       "    </tr>\n",
       "    <tr>\n",
       "      <th>22</th>\n",
       "      <td>23</td>\n",
       "      <td>90.00</td>\n",
       "      <td>95.00</td>\n",
       "      <td>22 90-95</td>\n",
       "    </tr>\n",
       "    <tr>\n",
       "      <th>23</th>\n",
       "      <td>24</td>\n",
       "      <td>95.00</td>\n",
       "      <td>100.00</td>\n",
       "      <td>23 95-100</td>\n",
       "    </tr>\n",
       "    <tr>\n",
       "      <th>24</th>\n",
       "      <td>25</td>\n",
       "      <td>100.00</td>\n",
       "      <td>NaN</td>\n",
       "      <td>24 100+</td>\n",
       "    </tr>\n",
       "  </tbody>\n",
       "</table>\n",
       "</div>"
      ],
      "text/plain": [
       "    tr_gr_id  bucket_min  bucket_max        title\n",
       "0          1        0.00        0.00         01 0\n",
       "1          2        0.00        0.01    01 0-0.01\n",
       "2          3        0.01        0.10  02 0.01-0.1\n",
       "3          4        0.10        1.00     03 0.1-1\n",
       "4          5        1.00        5.00       04 1-5\n",
       "5          6        5.00       10.00      05 5-10\n",
       "6          7       10.00       15.00     06 10-15\n",
       "7          8       15.00       20.00     07 15-20\n",
       "8          9       20.00       25.00     08 20-25\n",
       "9         10       25.00       30.00     09 25-30\n",
       "10        11       30.00       35.00     10 30-35\n",
       "11        12       35.00       40.00     11 35-40\n",
       "12        13       40.00       45.00     12 40-45\n",
       "13        14       45.00       50.00     13 45-50\n",
       "14        15       50.00       55.00     14 50-55\n",
       "15        16       55.00       60.00     15 55-60\n",
       "16        17       60.00       65.00     16 60-65\n",
       "17        18       65.00       70.00     17 65-70\n",
       "18        19       70.00       75.00     18 70-75\n",
       "19        20       75.00       80.00     19 75-80\n",
       "20        21       80.00       85.00     20 80-85\n",
       "21        22       85.00       90.00     21 85-90\n",
       "22        23       90.00       95.00     22 90-95\n",
       "23        24       95.00      100.00    23 95-100\n",
       "24        25      100.00         NaN      24 100+"
      ]
     },
     "execution_count": 7,
     "metadata": {},
     "output_type": "execute_result"
    }
   ],
   "source": [
    "df3.info()# Дата сет с объемом потребляемого трафика.\n",
    "df3\n",
    "# 24 группа в bucket_max стоит пустое значение. Что логично от 100 до бесконечности."
   ]
  },
  {
   "cell_type": "code",
   "execution_count": 8,
   "id": "99cc5f18",
   "metadata": {},
   "outputs": [
    {
     "name": "stdout",
     "output_type": "stream",
     "text": [
      "<class 'pandas.core.frame.DataFrame'>\n",
      "RangeIndex: 8 entries, 0 to 7\n",
      "Data columns (total 4 columns):\n",
      " #   Column      Non-Null Count  Dtype  \n",
      "---  ------      --------------  -----  \n",
      " 0   lt_gr_id    8 non-null      int64  \n",
      " 1   bucket_min  8 non-null      float64\n",
      " 2   bucket_max  7 non-null      float64\n",
      " 3   title       8 non-null      object \n",
      "dtypes: float64(2), int64(1), object(1)\n",
      "memory usage: 384.0+ bytes\n"
     ]
    },
    {
     "data": {
      "text/html": [
       "<div>\n",
       "<style scoped>\n",
       "    .dataframe tbody tr th:only-of-type {\n",
       "        vertical-align: middle;\n",
       "    }\n",
       "\n",
       "    .dataframe tbody tr th {\n",
       "        vertical-align: top;\n",
       "    }\n",
       "\n",
       "    .dataframe thead th {\n",
       "        text-align: right;\n",
       "    }\n",
       "</style>\n",
       "<table border=\"1\" class=\"dataframe\">\n",
       "  <thead>\n",
       "    <tr style=\"text-align: right;\">\n",
       "      <th></th>\n",
       "      <th>lt_gr_id</th>\n",
       "      <th>bucket_min</th>\n",
       "      <th>bucket_max</th>\n",
       "      <th>title</th>\n",
       "    </tr>\n",
       "  </thead>\n",
       "  <tbody>\n",
       "    <tr>\n",
       "      <th>0</th>\n",
       "      <td>1</td>\n",
       "      <td>1.0</td>\n",
       "      <td>1.0</td>\n",
       "      <td>01 1</td>\n",
       "    </tr>\n",
       "    <tr>\n",
       "      <th>1</th>\n",
       "      <td>2</td>\n",
       "      <td>2.0</td>\n",
       "      <td>2.0</td>\n",
       "      <td>02 2</td>\n",
       "    </tr>\n",
       "    <tr>\n",
       "      <th>2</th>\n",
       "      <td>3</td>\n",
       "      <td>3.0</td>\n",
       "      <td>3.0</td>\n",
       "      <td>03 3</td>\n",
       "    </tr>\n",
       "    <tr>\n",
       "      <th>3</th>\n",
       "      <td>4</td>\n",
       "      <td>4.0</td>\n",
       "      <td>6.0</td>\n",
       "      <td>04 4-6</td>\n",
       "    </tr>\n",
       "    <tr>\n",
       "      <th>4</th>\n",
       "      <td>5</td>\n",
       "      <td>7.0</td>\n",
       "      <td>12.0</td>\n",
       "      <td>05 7-12</td>\n",
       "    </tr>\n",
       "    <tr>\n",
       "      <th>5</th>\n",
       "      <td>6</td>\n",
       "      <td>13.0</td>\n",
       "      <td>24.0</td>\n",
       "      <td>06 13-24</td>\n",
       "    </tr>\n",
       "    <tr>\n",
       "      <th>6</th>\n",
       "      <td>7</td>\n",
       "      <td>25.0</td>\n",
       "      <td>36.0</td>\n",
       "      <td>07 25-36</td>\n",
       "    </tr>\n",
       "    <tr>\n",
       "      <th>7</th>\n",
       "      <td>8</td>\n",
       "      <td>36.0</td>\n",
       "      <td>NaN</td>\n",
       "      <td>08 36+</td>\n",
       "    </tr>\n",
       "  </tbody>\n",
       "</table>\n",
       "</div>"
      ],
      "text/plain": [
       "   lt_gr_id  bucket_min  bucket_max     title\n",
       "0         1         1.0         1.0      01 1\n",
       "1         2         2.0         2.0      02 2\n",
       "2         3         3.0         3.0      03 3\n",
       "3         4         4.0         6.0    04 4-6\n",
       "4         5         7.0        12.0   05 7-12\n",
       "5         6        13.0        24.0  06 13-24\n",
       "6         7        25.0        36.0  07 25-36\n",
       "7         8        36.0         NaN    08 36+"
      ]
     },
     "execution_count": 8,
     "metadata": {},
     "output_type": "execute_result"
    }
   ],
   "source": [
    "df4.info() # Датасет  с месяцев жизни клиента\n",
    "df4\n",
    "# Также есть пустое значение, что логично,  в 8 группе от 36 минут до бесконечности...."
   ]
  },
  {
   "cell_type": "code",
   "execution_count": 9,
   "id": "6ffa68e6",
   "metadata": {},
   "outputs": [
    {
     "name": "stdout",
     "output_type": "stream",
     "text": [
      "<class 'pandas.core.frame.DataFrame'>\n",
      "RangeIndex: 502493 entries, 0 to 502492\n",
      "Data columns (total 11 columns):\n",
      " #   Column          Non-Null Count   Dtype  \n",
      "---  ------          --------------   -----  \n",
      " 0   user_id         502493 non-null  object \n",
      " 1   lt_day          502493 non-null  int64  \n",
      " 2   age             501939 non-null  float64\n",
      " 3   gender_segment  501192 non-null  float64\n",
      " 4   os_name         502493 non-null  object \n",
      " 5   cpe_type_name   502493 non-null  object \n",
      " 6   location_id     502493 non-null  int64  \n",
      " 7   age_gr_id       502493 non-null  int64  \n",
      " 8   tr_gr_id        502493 non-null  int64  \n",
      " 9   lt_gr_id        502493 non-null  int64  \n",
      " 10  nps_score       502493 non-null  int64  \n",
      "dtypes: float64(2), int64(6), object(3)\n",
      "memory usage: 42.2+ MB\n"
     ]
    },
    {
     "data": {
      "text/html": [
       "<div>\n",
       "<style scoped>\n",
       "    .dataframe tbody tr th:only-of-type {\n",
       "        vertical-align: middle;\n",
       "    }\n",
       "\n",
       "    .dataframe tbody tr th {\n",
       "        vertical-align: top;\n",
       "    }\n",
       "\n",
       "    .dataframe thead th {\n",
       "        text-align: right;\n",
       "    }\n",
       "</style>\n",
       "<table border=\"1\" class=\"dataframe\">\n",
       "  <thead>\n",
       "    <tr style=\"text-align: right;\">\n",
       "      <th></th>\n",
       "      <th>user_id</th>\n",
       "      <th>lt_day</th>\n",
       "      <th>age</th>\n",
       "      <th>gender_segment</th>\n",
       "      <th>os_name</th>\n",
       "      <th>cpe_type_name</th>\n",
       "      <th>location_id</th>\n",
       "      <th>age_gr_id</th>\n",
       "      <th>tr_gr_id</th>\n",
       "      <th>lt_gr_id</th>\n",
       "      <th>nps_score</th>\n",
       "    </tr>\n",
       "  </thead>\n",
       "  <tbody>\n",
       "    <tr>\n",
       "      <th>0</th>\n",
       "      <td>A001A2</td>\n",
       "      <td>2320</td>\n",
       "      <td>45.0</td>\n",
       "      <td>1.0</td>\n",
       "      <td>ANDROID</td>\n",
       "      <td>SMARTPHONE</td>\n",
       "      <td>55</td>\n",
       "      <td>5</td>\n",
       "      <td>5</td>\n",
       "      <td>8</td>\n",
       "      <td>10</td>\n",
       "    </tr>\n",
       "    <tr>\n",
       "      <th>1</th>\n",
       "      <td>A001WF</td>\n",
       "      <td>2344</td>\n",
       "      <td>53.0</td>\n",
       "      <td>0.0</td>\n",
       "      <td>ANDROID</td>\n",
       "      <td>SMARTPHONE</td>\n",
       "      <td>21</td>\n",
       "      <td>5</td>\n",
       "      <td>5</td>\n",
       "      <td>8</td>\n",
       "      <td>10</td>\n",
       "    </tr>\n",
       "    <tr>\n",
       "      <th>2</th>\n",
       "      <td>A003Q7</td>\n",
       "      <td>467</td>\n",
       "      <td>57.0</td>\n",
       "      <td>0.0</td>\n",
       "      <td>ANDROID</td>\n",
       "      <td>SMARTPHONE</td>\n",
       "      <td>28</td>\n",
       "      <td>6</td>\n",
       "      <td>9</td>\n",
       "      <td>6</td>\n",
       "      <td>10</td>\n",
       "    </tr>\n",
       "    <tr>\n",
       "      <th>3</th>\n",
       "      <td>A004TB</td>\n",
       "      <td>4190</td>\n",
       "      <td>44.0</td>\n",
       "      <td>1.0</td>\n",
       "      <td>IOS</td>\n",
       "      <td>SMARTPHONE</td>\n",
       "      <td>38</td>\n",
       "      <td>4</td>\n",
       "      <td>4</td>\n",
       "      <td>8</td>\n",
       "      <td>10</td>\n",
       "    </tr>\n",
       "    <tr>\n",
       "      <th>4</th>\n",
       "      <td>A004XT</td>\n",
       "      <td>1163</td>\n",
       "      <td>24.0</td>\n",
       "      <td>0.0</td>\n",
       "      <td>ANDROID</td>\n",
       "      <td>SMARTPHONE</td>\n",
       "      <td>39</td>\n",
       "      <td>2</td>\n",
       "      <td>6</td>\n",
       "      <td>8</td>\n",
       "      <td>10</td>\n",
       "    </tr>\n",
       "    <tr>\n",
       "      <th>...</th>\n",
       "      <td>...</td>\n",
       "      <td>...</td>\n",
       "      <td>...</td>\n",
       "      <td>...</td>\n",
       "      <td>...</td>\n",
       "      <td>...</td>\n",
       "      <td>...</td>\n",
       "      <td>...</td>\n",
       "      <td>...</td>\n",
       "      <td>...</td>\n",
       "      <td>...</td>\n",
       "    </tr>\n",
       "    <tr>\n",
       "      <th>502488</th>\n",
       "      <td>ZZZKLD</td>\n",
       "      <td>1249</td>\n",
       "      <td>54.0</td>\n",
       "      <td>1.0</td>\n",
       "      <td>ANDROID</td>\n",
       "      <td>SMARTPHONE</td>\n",
       "      <td>28</td>\n",
       "      <td>5</td>\n",
       "      <td>5</td>\n",
       "      <td>8</td>\n",
       "      <td>5</td>\n",
       "    </tr>\n",
       "    <tr>\n",
       "      <th>502489</th>\n",
       "      <td>ZZZLWY</td>\n",
       "      <td>129</td>\n",
       "      <td>31.0</td>\n",
       "      <td>0.0</td>\n",
       "      <td>ANDROID</td>\n",
       "      <td>SMARTPHONE</td>\n",
       "      <td>28</td>\n",
       "      <td>3</td>\n",
       "      <td>5</td>\n",
       "      <td>4</td>\n",
       "      <td>8</td>\n",
       "    </tr>\n",
       "    <tr>\n",
       "      <th>502490</th>\n",
       "      <td>ZZZQ5F</td>\n",
       "      <td>522</td>\n",
       "      <td>36.0</td>\n",
       "      <td>0.0</td>\n",
       "      <td>ANDROID</td>\n",
       "      <td>SMARTPHONE</td>\n",
       "      <td>47</td>\n",
       "      <td>4</td>\n",
       "      <td>10</td>\n",
       "      <td>6</td>\n",
       "      <td>10</td>\n",
       "    </tr>\n",
       "    <tr>\n",
       "      <th>502491</th>\n",
       "      <td>ZZZQ8E</td>\n",
       "      <td>2936</td>\n",
       "      <td>37.0</td>\n",
       "      <td>1.0</td>\n",
       "      <td>ANDROID</td>\n",
       "      <td>SMARTPHONE</td>\n",
       "      <td>53</td>\n",
       "      <td>4</td>\n",
       "      <td>18</td>\n",
       "      <td>8</td>\n",
       "      <td>9</td>\n",
       "    </tr>\n",
       "    <tr>\n",
       "      <th>502492</th>\n",
       "      <td>ZZZYH0</td>\n",
       "      <td>2471</td>\n",
       "      <td>37.0</td>\n",
       "      <td>0.0</td>\n",
       "      <td>IOS</td>\n",
       "      <td>SMARTPHONE</td>\n",
       "      <td>40</td>\n",
       "      <td>4</td>\n",
       "      <td>7</td>\n",
       "      <td>8</td>\n",
       "      <td>2</td>\n",
       "    </tr>\n",
       "  </tbody>\n",
       "</table>\n",
       "<p>502493 rows × 11 columns</p>\n",
       "</div>"
      ],
      "text/plain": [
       "       user_id  lt_day   age  gender_segment  os_name cpe_type_name  \\\n",
       "0       A001A2    2320  45.0             1.0  ANDROID    SMARTPHONE   \n",
       "1       A001WF    2344  53.0             0.0  ANDROID    SMARTPHONE   \n",
       "2       A003Q7     467  57.0             0.0  ANDROID    SMARTPHONE   \n",
       "3       A004TB    4190  44.0             1.0      IOS    SMARTPHONE   \n",
       "4       A004XT    1163  24.0             0.0  ANDROID    SMARTPHONE   \n",
       "...        ...     ...   ...             ...      ...           ...   \n",
       "502488  ZZZKLD    1249  54.0             1.0  ANDROID    SMARTPHONE   \n",
       "502489  ZZZLWY     129  31.0             0.0  ANDROID    SMARTPHONE   \n",
       "502490  ZZZQ5F     522  36.0             0.0  ANDROID    SMARTPHONE   \n",
       "502491  ZZZQ8E    2936  37.0             1.0  ANDROID    SMARTPHONE   \n",
       "502492  ZZZYH0    2471  37.0             0.0      IOS    SMARTPHONE   \n",
       "\n",
       "        location_id  age_gr_id  tr_gr_id  lt_gr_id  nps_score  \n",
       "0                55          5         5         8         10  \n",
       "1                21          5         5         8         10  \n",
       "2                28          6         9         6         10  \n",
       "3                38          4         4         8         10  \n",
       "4                39          2         6         8         10  \n",
       "...             ...        ...       ...       ...        ...  \n",
       "502488           28          5         5         8          5  \n",
       "502489           28          3         5         4          8  \n",
       "502490           47          4        10         6         10  \n",
       "502491           53          4        18         8          9  \n",
       "502492           40          4         7         8          2  \n",
       "\n",
       "[502493 rows x 11 columns]"
      ]
     },
     "execution_count": 9,
     "metadata": {},
     "output_type": "execute_result"
    }
   ],
   "source": [
    "df5.info() # Основная таблица с информацией о клиентах\n",
    "df5\n",
    "# Есть пустые ячейки в столбцах: age,  gender_segment."
   ]
  },
  {
   "cell_type": "code",
   "execution_count": 10,
   "id": "1699b052",
   "metadata": {},
   "outputs": [
    {
     "data": {
      "text/plain": [
       "array([45., 53., 57., 44., 24., 42., 35., 36., 54., 39., 21., 27., 60.,\n",
       "       34., 47., 37., 43., 33., 31., 25., 51., 28., 41., 40., 46., 48.,\n",
       "       32., 30., 52., 59., 26., 50., 62., 29., 55., 22., 38., 56., 23.,\n",
       "       49., 66., 74., 75., 17., 65., 64., 69., 58., 20., 19., 80., 70.,\n",
       "       81., 63., 67., 68., 72., 15., 79., 18., 73., nan, 14., 71., 61.,\n",
       "       16., 77., 13., 76., 10., 78., 12., 82., 11., 83., 89., 84., 85.,\n",
       "       87., 86.])"
      ]
     },
     "metadata": {},
     "output_type": "display_data"
    },
    {
     "data": {
      "text/plain": [
       "count    501939.000000\n",
       "mean         39.621946\n",
       "std          11.188249\n",
       "min          10.000000\n",
       "25%          31.000000\n",
       "50%          38.000000\n",
       "75%          47.000000\n",
       "max          89.000000\n",
       "Name: age, dtype: float64"
      ]
     },
     "metadata": {},
     "output_type": "display_data"
    }
   ],
   "source": [
    "display(df5.age.unique())\n",
    "display(df5.age.describe())"
   ]
  },
  {
   "cell_type": "code",
   "execution_count": 11,
   "id": "8438dffd",
   "metadata": {},
   "outputs": [
    {
     "data": {
      "text/plain": [
       "array([ 1.,  0., nan])"
      ]
     },
     "execution_count": 11,
     "metadata": {},
     "output_type": "execute_result"
    }
   ],
   "source": [
    "df5.gender_segment.unique()"
   ]
  },
  {
   "cell_type": "code",
   "execution_count": 12,
   "id": "a7c907a7",
   "metadata": {},
   "outputs": [
    {
     "name": "stdout",
     "output_type": "stream",
     "text": [
      "Количество пустых значений: 1301\n",
      "Процент этих значений от общего количества: 0.26 %\n"
     ]
    }
   ],
   "source": [
    "print('Количество пустых значений:',df5.gender_segment.isna().sum())\n",
    "print('Процент этих значений от общего количества:',round((df5.gender_segment.isna().sum()) * 100 /len(df5), 2),'%')\n",
    "# Пустых значений 1301 из 502493. Что составляет 0.26 %. "
   ]
  },
  {
   "cell_type": "markdown",
   "id": "7ed84065",
   "metadata": {},
   "source": [
    "Могли бы эти значения удалить в датасете 0,2% это очень мало, но по условиям задачи нам не надо проводить предобработку данных"
   ]
  },
  {
   "cell_type": "code",
   "execution_count": 15,
   "id": "a23f537d",
   "metadata": {},
   "outputs": [],
   "source": [
    "if os.path.exists(path_to_db_local):\n",
    "    path_to_db = path_to_db_local\n",
    "else:\n",
    "    raise Exception('Файл с базой данных SQLite не найден!')\n",
    "if path_to_db:\n",
    "    # то создаём подключение к базе\n",
    "    engine = create_engine(f'sqlite:///{path_to_db}', echo=False)\n",
    "    \n",
    "    # возьмем сразу перечислим в select нужные поля\n",
    "    # Используем оператор CASE для столбцов is_new, gender_segment, nps_score\n",
    "    query = \"\"\"\n",
    "    SELECT\n",
    "        u.user_id,\n",
    "        u.lt_day,\n",
    "        (CASE WHEN u.lt_day < 365 THEN 'New' ELSE 'Old' END) AS is_new, \n",
    "        u.age,\n",
    "        (CASE WHEN u.gender_segment = 0.0 THEN 'Мужчина' \n",
    "              WHEN u.gender_segment = 1.0 THEN 'Женщина' END) AS gender_segment,\n",
    "        u.os_name,\n",
    "        u.cpe_type_name,\n",
    "        l.country,\n",
    "        l.city,\n",
    "        ag.title AS age_segment,\n",
    "        ts.title AS traffic_segment,\n",
    "        ls.title AS lifetime_segment,\n",
    "        u.nps_score,\n",
    "        (CASE WHEN (u.nps_score = 9) or (u.nps_score = 10) THEN 'promoters' \n",
    "              WHEN (u.nps_score = 7) or (u.nps_score = 8) THEN 'passives'\n",
    "              ELSE 'detractors' \n",
    "        END) AS nps_group\n",
    "\n",
    "    FROM user AS u\n",
    "    LEFT OUTER JOIN location as l ON l.location_id = u.location_id\n",
    "    LEFT OUTER JOIN age_segment as ag ON ag.age_gr_id = u.age_gr_id\n",
    "    LEFT OUTER JOIN traffic_segment as ts ON ts.tr_gr_id = u.tr_gr_id\n",
    "    LEFT OUTER JOIN lifetime_segment as ls ON ls.lt_gr_id = u.lt_gr_id;\n",
    "    \"\"\"\n",
    "\n",
    "    # создаём датафрейм по данным запроса\n",
    "    df = pd.read_sql(query, engine)"
   ]
  },
  {
   "cell_type": "code",
   "execution_count": 16,
   "id": "3dd3a657",
   "metadata": {},
   "outputs": [
    {
     "data": {
      "text/html": [
       "<div>\n",
       "<style scoped>\n",
       "    .dataframe tbody tr th:only-of-type {\n",
       "        vertical-align: middle;\n",
       "    }\n",
       "\n",
       "    .dataframe tbody tr th {\n",
       "        vertical-align: top;\n",
       "    }\n",
       "\n",
       "    .dataframe thead th {\n",
       "        text-align: right;\n",
       "    }\n",
       "</style>\n",
       "<table border=\"1\" class=\"dataframe\">\n",
       "  <thead>\n",
       "    <tr style=\"text-align: right;\">\n",
       "      <th></th>\n",
       "      <th>user_id</th>\n",
       "      <th>lt_day</th>\n",
       "      <th>is_new</th>\n",
       "      <th>age</th>\n",
       "      <th>gender_segment</th>\n",
       "      <th>os_name</th>\n",
       "      <th>cpe_type_name</th>\n",
       "      <th>country</th>\n",
       "      <th>city</th>\n",
       "      <th>age_segment</th>\n",
       "      <th>traffic_segment</th>\n",
       "      <th>lifetime_segment</th>\n",
       "      <th>nps_score</th>\n",
       "      <th>nps_group</th>\n",
       "    </tr>\n",
       "  </thead>\n",
       "  <tbody>\n",
       "    <tr>\n",
       "      <th>0</th>\n",
       "      <td>A001A2</td>\n",
       "      <td>2320</td>\n",
       "      <td>Old</td>\n",
       "      <td>45.0</td>\n",
       "      <td>Женщина</td>\n",
       "      <td>ANDROID</td>\n",
       "      <td>SMARTPHONE</td>\n",
       "      <td>Россия</td>\n",
       "      <td>Уфа</td>\n",
       "      <td>05 45-54</td>\n",
       "      <td>04 1-5</td>\n",
       "      <td>08 36+</td>\n",
       "      <td>10</td>\n",
       "      <td>promoters</td>\n",
       "    </tr>\n",
       "    <tr>\n",
       "      <th>1</th>\n",
       "      <td>A001WF</td>\n",
       "      <td>2344</td>\n",
       "      <td>Old</td>\n",
       "      <td>53.0</td>\n",
       "      <td>Мужчина</td>\n",
       "      <td>ANDROID</td>\n",
       "      <td>SMARTPHONE</td>\n",
       "      <td>Россия</td>\n",
       "      <td>Киров</td>\n",
       "      <td>05 45-54</td>\n",
       "      <td>04 1-5</td>\n",
       "      <td>08 36+</td>\n",
       "      <td>10</td>\n",
       "      <td>promoters</td>\n",
       "    </tr>\n",
       "    <tr>\n",
       "      <th>2</th>\n",
       "      <td>A003Q7</td>\n",
       "      <td>467</td>\n",
       "      <td>Old</td>\n",
       "      <td>57.0</td>\n",
       "      <td>Мужчина</td>\n",
       "      <td>ANDROID</td>\n",
       "      <td>SMARTPHONE</td>\n",
       "      <td>Россия</td>\n",
       "      <td>Москва</td>\n",
       "      <td>06 55-64</td>\n",
       "      <td>08 20-25</td>\n",
       "      <td>06 13-24</td>\n",
       "      <td>10</td>\n",
       "      <td>promoters</td>\n",
       "    </tr>\n",
       "    <tr>\n",
       "      <th>3</th>\n",
       "      <td>A004TB</td>\n",
       "      <td>4190</td>\n",
       "      <td>Old</td>\n",
       "      <td>44.0</td>\n",
       "      <td>Женщина</td>\n",
       "      <td>IOS</td>\n",
       "      <td>SMARTPHONE</td>\n",
       "      <td>Россия</td>\n",
       "      <td>РостовнаДону</td>\n",
       "      <td>04 35-44</td>\n",
       "      <td>03 0.1-1</td>\n",
       "      <td>08 36+</td>\n",
       "      <td>10</td>\n",
       "      <td>promoters</td>\n",
       "    </tr>\n",
       "    <tr>\n",
       "      <th>4</th>\n",
       "      <td>A004XT</td>\n",
       "      <td>1163</td>\n",
       "      <td>Old</td>\n",
       "      <td>24.0</td>\n",
       "      <td>Мужчина</td>\n",
       "      <td>ANDROID</td>\n",
       "      <td>SMARTPHONE</td>\n",
       "      <td>Россия</td>\n",
       "      <td>Рязань</td>\n",
       "      <td>02 16-24</td>\n",
       "      <td>05 5-10</td>\n",
       "      <td>08 36+</td>\n",
       "      <td>10</td>\n",
       "      <td>promoters</td>\n",
       "    </tr>\n",
       "    <tr>\n",
       "      <th>...</th>\n",
       "      <td>...</td>\n",
       "      <td>...</td>\n",
       "      <td>...</td>\n",
       "      <td>...</td>\n",
       "      <td>...</td>\n",
       "      <td>...</td>\n",
       "      <td>...</td>\n",
       "      <td>...</td>\n",
       "      <td>...</td>\n",
       "      <td>...</td>\n",
       "      <td>...</td>\n",
       "      <td>...</td>\n",
       "      <td>...</td>\n",
       "      <td>...</td>\n",
       "    </tr>\n",
       "    <tr>\n",
       "      <th>502488</th>\n",
       "      <td>ZZZKLD</td>\n",
       "      <td>1249</td>\n",
       "      <td>Old</td>\n",
       "      <td>54.0</td>\n",
       "      <td>Женщина</td>\n",
       "      <td>ANDROID</td>\n",
       "      <td>SMARTPHONE</td>\n",
       "      <td>Россия</td>\n",
       "      <td>Москва</td>\n",
       "      <td>05 45-54</td>\n",
       "      <td>04 1-5</td>\n",
       "      <td>08 36+</td>\n",
       "      <td>5</td>\n",
       "      <td>detractors</td>\n",
       "    </tr>\n",
       "    <tr>\n",
       "      <th>502489</th>\n",
       "      <td>ZZZLWY</td>\n",
       "      <td>129</td>\n",
       "      <td>New</td>\n",
       "      <td>31.0</td>\n",
       "      <td>Мужчина</td>\n",
       "      <td>ANDROID</td>\n",
       "      <td>SMARTPHONE</td>\n",
       "      <td>Россия</td>\n",
       "      <td>Москва</td>\n",
       "      <td>03 25-34</td>\n",
       "      <td>04 1-5</td>\n",
       "      <td>04 4-6</td>\n",
       "      <td>8</td>\n",
       "      <td>passives</td>\n",
       "    </tr>\n",
       "    <tr>\n",
       "      <th>502490</th>\n",
       "      <td>ZZZQ5F</td>\n",
       "      <td>522</td>\n",
       "      <td>Old</td>\n",
       "      <td>36.0</td>\n",
       "      <td>Мужчина</td>\n",
       "      <td>ANDROID</td>\n",
       "      <td>SMARTPHONE</td>\n",
       "      <td>Россия</td>\n",
       "      <td>Сургут</td>\n",
       "      <td>04 35-44</td>\n",
       "      <td>09 25-30</td>\n",
       "      <td>06 13-24</td>\n",
       "      <td>10</td>\n",
       "      <td>promoters</td>\n",
       "    </tr>\n",
       "    <tr>\n",
       "      <th>502491</th>\n",
       "      <td>ZZZQ8E</td>\n",
       "      <td>2936</td>\n",
       "      <td>Old</td>\n",
       "      <td>37.0</td>\n",
       "      <td>Женщина</td>\n",
       "      <td>ANDROID</td>\n",
       "      <td>SMARTPHONE</td>\n",
       "      <td>Россия</td>\n",
       "      <td>УланУдэ</td>\n",
       "      <td>04 35-44</td>\n",
       "      <td>17 65-70</td>\n",
       "      <td>08 36+</td>\n",
       "      <td>9</td>\n",
       "      <td>promoters</td>\n",
       "    </tr>\n",
       "    <tr>\n",
       "      <th>502492</th>\n",
       "      <td>ZZZYH0</td>\n",
       "      <td>2471</td>\n",
       "      <td>Old</td>\n",
       "      <td>37.0</td>\n",
       "      <td>Мужчина</td>\n",
       "      <td>IOS</td>\n",
       "      <td>SMARTPHONE</td>\n",
       "      <td>Россия</td>\n",
       "      <td>Самара</td>\n",
       "      <td>04 35-44</td>\n",
       "      <td>06 10-15</td>\n",
       "      <td>08 36+</td>\n",
       "      <td>2</td>\n",
       "      <td>detractors</td>\n",
       "    </tr>\n",
       "  </tbody>\n",
       "</table>\n",
       "<p>502493 rows × 14 columns</p>\n",
       "</div>"
      ],
      "text/plain": [
       "       user_id  lt_day is_new   age gender_segment  os_name cpe_type_name  \\\n",
       "0       A001A2    2320    Old  45.0        Женщина  ANDROID    SMARTPHONE   \n",
       "1       A001WF    2344    Old  53.0        Мужчина  ANDROID    SMARTPHONE   \n",
       "2       A003Q7     467    Old  57.0        Мужчина  ANDROID    SMARTPHONE   \n",
       "3       A004TB    4190    Old  44.0        Женщина      IOS    SMARTPHONE   \n",
       "4       A004XT    1163    Old  24.0        Мужчина  ANDROID    SMARTPHONE   \n",
       "...        ...     ...    ...   ...            ...      ...           ...   \n",
       "502488  ZZZKLD    1249    Old  54.0        Женщина  ANDROID    SMARTPHONE   \n",
       "502489  ZZZLWY     129    New  31.0        Мужчина  ANDROID    SMARTPHONE   \n",
       "502490  ZZZQ5F     522    Old  36.0        Мужчина  ANDROID    SMARTPHONE   \n",
       "502491  ZZZQ8E    2936    Old  37.0        Женщина  ANDROID    SMARTPHONE   \n",
       "502492  ZZZYH0    2471    Old  37.0        Мужчина      IOS    SMARTPHONE   \n",
       "\n",
       "       country          city age_segment traffic_segment lifetime_segment  \\\n",
       "0       Россия           Уфа    05 45-54          04 1-5           08 36+   \n",
       "1       Россия         Киров    05 45-54          04 1-5           08 36+   \n",
       "2       Россия        Москва    06 55-64        08 20-25         06 13-24   \n",
       "3       Россия  РостовнаДону    04 35-44        03 0.1-1           08 36+   \n",
       "4       Россия        Рязань    02 16-24         05 5-10           08 36+   \n",
       "...        ...           ...         ...             ...              ...   \n",
       "502488  Россия        Москва    05 45-54          04 1-5           08 36+   \n",
       "502489  Россия        Москва    03 25-34          04 1-5           04 4-6   \n",
       "502490  Россия        Сургут    04 35-44        09 25-30         06 13-24   \n",
       "502491  Россия       УланУдэ    04 35-44        17 65-70           08 36+   \n",
       "502492  Россия        Самара    04 35-44        06 10-15           08 36+   \n",
       "\n",
       "        nps_score   nps_group  \n",
       "0              10   promoters  \n",
       "1              10   promoters  \n",
       "2              10   promoters  \n",
       "3              10   promoters  \n",
       "4              10   promoters  \n",
       "...           ...         ...  \n",
       "502488          5  detractors  \n",
       "502489          8    passives  \n",
       "502490         10   promoters  \n",
       "502491          9   promoters  \n",
       "502492          2  detractors  \n",
       "\n",
       "[502493 rows x 14 columns]"
      ]
     },
     "metadata": {},
     "output_type": "display_data"
    }
   ],
   "source": [
    "display(df)"
   ]
  },
  {
   "cell_type": "code",
   "execution_count": 17,
   "id": "513089d6",
   "metadata": {},
   "outputs": [],
   "source": [
    "# Напишем функцию на вывод описательную статистикку для датафрейма\n",
    "def data_opisanie(data):\n",
    "    return data.head(2), data.tail(2), data.describe(), data.info()"
   ]
  },
  {
   "cell_type": "code",
   "execution_count": 18,
   "id": "221eca34",
   "metadata": {},
   "outputs": [
    {
     "name": "stdout",
     "output_type": "stream",
     "text": [
      "<class 'pandas.core.frame.DataFrame'>\n",
      "RangeIndex: 502493 entries, 0 to 502492\n",
      "Data columns (total 14 columns):\n",
      " #   Column            Non-Null Count   Dtype  \n",
      "---  ------            --------------   -----  \n",
      " 0   user_id           502493 non-null  object \n",
      " 1   lt_day            502493 non-null  int64  \n",
      " 2   is_new            502493 non-null  object \n",
      " 3   age               501939 non-null  float64\n",
      " 4   gender_segment    501192 non-null  object \n",
      " 5   os_name           502493 non-null  object \n",
      " 6   cpe_type_name     502493 non-null  object \n",
      " 7   country           502493 non-null  object \n",
      " 8   city              502493 non-null  object \n",
      " 9   age_segment       502493 non-null  object \n",
      " 10  traffic_segment   502493 non-null  object \n",
      " 11  lifetime_segment  502493 non-null  object \n",
      " 12  nps_score         502493 non-null  int64  \n",
      " 13  nps_group         502493 non-null  object \n",
      "dtypes: float64(1), int64(2), object(11)\n",
      "memory usage: 53.7+ MB\n"
     ]
    },
    {
     "data": {
      "text/plain": [
       "(  user_id  lt_day is_new   age gender_segment  os_name cpe_type_name country  \\\n",
       " 0  A001A2    2320    Old  45.0        Женщина  ANDROID    SMARTPHONE  Россия   \n",
       " 1  A001WF    2344    Old  53.0        Мужчина  ANDROID    SMARTPHONE  Россия   \n",
       " \n",
       "     city age_segment traffic_segment lifetime_segment  nps_score  nps_group  \n",
       " 0    Уфа    05 45-54          04 1-5           08 36+         10  promoters  \n",
       " 1  Киров    05 45-54          04 1-5           08 36+         10  promoters  ,\n",
       "        user_id  lt_day is_new   age gender_segment  os_name cpe_type_name  \\\n",
       " 502491  ZZZQ8E    2936    Old  37.0        Женщина  ANDROID    SMARTPHONE   \n",
       " 502492  ZZZYH0    2471    Old  37.0        Мужчина      IOS    SMARTPHONE   \n",
       " \n",
       "        country     city age_segment traffic_segment lifetime_segment  \\\n",
       " 502491  Россия  УланУдэ    04 35-44        17 65-70           08 36+   \n",
       " 502492  Россия   Самара    04 35-44        06 10-15           08 36+   \n",
       " \n",
       "         nps_score   nps_group  \n",
       " 502491          9   promoters  \n",
       " 502492          2  detractors  ,\n",
       "               lt_day            age      nps_score\n",
       " count  502493.000000  501939.000000  502493.000000\n",
       " mean     1868.841439      39.621946       7.508562\n",
       " std      1683.701762      11.188249       3.020378\n",
       " min       -21.000000      10.000000       1.000000\n",
       " 25%       533.000000      31.000000       5.000000\n",
       " 50%      1239.000000      38.000000       9.000000\n",
       " 75%      3064.000000      47.000000      10.000000\n",
       " max      9162.000000      89.000000      10.000000,\n",
       " None)"
      ]
     },
     "metadata": {},
     "output_type": "display_data"
    }
   ],
   "source": [
    "display(data_opisanie(df))"
   ]
  },
  {
   "cell_type": "code",
   "execution_count": 19,
   "id": "5801974a",
   "metadata": {},
   "outputs": [
    {
     "data": {
      "text/plain": [
       "array(['Женщина', 'Мужчина', None], dtype=object)"
      ]
     },
     "execution_count": 19,
     "metadata": {},
     "output_type": "execute_result"
    }
   ],
   "source": [
    "df.gender_segment.unique()"
   ]
  },
  {
   "cell_type": "code",
   "execution_count": 20,
   "id": "2d92d730",
   "metadata": {},
   "outputs": [
    {
     "data": {
      "text/plain": [
       "array(['Old', 'New'], dtype=object)"
      ]
     },
     "execution_count": 20,
     "metadata": {},
     "output_type": "execute_result"
    }
   ],
   "source": [
    "df.is_new.unique()"
   ]
  },
  {
   "cell_type": "code",
   "execution_count": 21,
   "id": "f8d6e83f",
   "metadata": {},
   "outputs": [],
   "source": [
    "# Сохраним в csv, столбец индекса сохранять не будем, так как по условию задачи поле индекса нам не нужно\n",
    "df.to_csv('3.csv', index=False)"
   ]
  },
  {
   "cell_type": "markdown",
   "id": "456989f7",
   "metadata": {},
   "source": [
    "Ссылка на tableau https://public.tableau.com/views/NPS_16899531532420/Dashboard2?:language=en-US&:display_count=n&:origin=viz_share_link"
   ]
  }
 ],
 "metadata": {
  "ExecuteTimeLog": [
   {
    "duration": 469,
    "start_time": "2023-07-18T16:22:34.713Z"
   },
   {
    "duration": 2,
    "start_time": "2023-07-18T16:22:42.365Z"
   },
   {
    "duration": 4735,
    "start_time": "2023-07-18T16:23:12.328Z"
   },
   {
    "duration": 420,
    "start_time": "2023-07-18T16:23:19.605Z"
   },
   {
    "duration": 23,
    "start_time": "2023-07-18T16:24:34.893Z"
   },
   {
    "duration": 2,
    "start_time": "2023-07-18T16:24:47.374Z"
   },
   {
    "duration": 2,
    "start_time": "2023-07-18T16:24:47.797Z"
   },
   {
    "duration": 4811,
    "start_time": "2023-07-18T16:24:49.525Z"
   },
   {
    "duration": 19,
    "start_time": "2023-07-18T16:24:54.338Z"
   },
   {
    "duration": 57,
    "start_time": "2023-07-18T16:25:35.796Z"
   },
   {
    "duration": 3,
    "start_time": "2023-07-18T16:25:42.004Z"
   },
   {
    "duration": 1749,
    "start_time": "2023-07-18T16:25:42.700Z"
   },
   {
    "duration": 3930,
    "start_time": "2023-07-18T16:26:22.860Z"
   },
   {
    "duration": 44,
    "start_time": "2023-07-18T16:28:19.844Z"
   },
   {
    "duration": 393,
    "start_time": "2023-07-18T16:28:47.350Z"
   },
   {
    "duration": 3961,
    "start_time": "2023-07-18T16:28:56.572Z"
   },
   {
    "duration": 3732,
    "start_time": "2023-07-18T16:30:39.556Z"
   },
   {
    "duration": 174,
    "start_time": "2023-07-18T16:32:48.257Z"
   },
   {
    "duration": 2,
    "start_time": "2023-07-18T16:33:09.255Z"
   },
   {
    "duration": 2,
    "start_time": "2023-07-18T16:33:09.638Z"
   },
   {
    "duration": 4552,
    "start_time": "2023-07-18T16:33:10.160Z"
   },
   {
    "duration": 17,
    "start_time": "2023-07-18T16:33:14.714Z"
   },
   {
    "duration": 29,
    "start_time": "2023-07-18T16:33:37.879Z"
   },
   {
    "duration": 4812,
    "start_time": "2023-07-18T16:33:45.423Z"
   },
   {
    "duration": 18,
    "start_time": "2023-07-18T16:33:50.236Z"
   },
   {
    "duration": 3965,
    "start_time": "2023-07-18T16:35:44.279Z"
   },
   {
    "duration": 3460,
    "start_time": "2023-07-18T16:37:25.749Z"
   },
   {
    "duration": 2,
    "start_time": "2023-07-18T16:37:46.663Z"
   },
   {
    "duration": 535,
    "start_time": "2023-07-18T16:37:49.940Z"
   },
   {
    "duration": 136,
    "start_time": "2023-07-18T16:43:06.437Z"
   },
   {
    "duration": 535,
    "start_time": "2023-07-18T20:45:13.149Z"
   },
   {
    "duration": 2,
    "start_time": "2023-07-18T20:45:13.686Z"
   },
   {
    "duration": 6443,
    "start_time": "2023-07-18T20:45:13.689Z"
   },
   {
    "duration": 33,
    "start_time": "2023-07-18T20:45:20.133Z"
   },
   {
    "duration": 3,
    "start_time": "2023-07-18T20:45:20.168Z"
   },
   {
    "duration": 699,
    "start_time": "2023-07-18T20:45:20.172Z"
   },
   {
    "duration": 4556,
    "start_time": "2023-07-18T20:45:20.872Z"
   },
   {
    "duration": 623,
    "start_time": "2023-07-20T07:57:56.093Z"
   },
   {
    "duration": 4,
    "start_time": "2023-07-20T07:58:02.303Z"
   },
   {
    "duration": 6,
    "start_time": "2023-07-20T07:58:05.027Z"
   },
   {
    "duration": 585,
    "start_time": "2023-07-20T07:58:22.451Z"
   },
   {
    "duration": 3,
    "start_time": "2023-07-20T07:59:53.667Z"
   },
   {
    "duration": 2,
    "start_time": "2023-07-20T07:59:55.541Z"
   },
   {
    "duration": 864,
    "start_time": "2023-07-20T07:59:57.275Z"
   },
   {
    "duration": 6,
    "start_time": "2023-07-20T08:00:30.318Z"
   },
   {
    "duration": 3,
    "start_time": "2023-07-20T08:00:42.684Z"
   },
   {
    "duration": 1256,
    "start_time": "2023-07-20T08:01:17.836Z"
   },
   {
    "duration": 4,
    "start_time": "2023-07-20T08:02:01.395Z"
   },
   {
    "duration": 3,
    "start_time": "2023-07-20T08:02:02.194Z"
   },
   {
    "duration": 66,
    "start_time": "2023-07-20T08:02:56.724Z"
   },
   {
    "duration": 619,
    "start_time": "2023-07-20T08:03:06.595Z"
   },
   {
    "duration": 24,
    "start_time": "2023-07-20T08:03:13.907Z"
   },
   {
    "duration": 12,
    "start_time": "2023-07-20T08:03:32.449Z"
   },
   {
    "duration": 7349,
    "start_time": "2023-07-20T08:07:17.537Z"
   },
   {
    "duration": 12,
    "start_time": "2023-07-20T08:07:48.570Z"
   },
   {
    "duration": 18,
    "start_time": "2023-07-20T08:08:00.106Z"
   },
   {
    "duration": 30,
    "start_time": "2023-07-20T08:08:29.402Z"
   },
   {
    "duration": 12,
    "start_time": "2023-07-20T08:08:52.649Z"
   },
   {
    "duration": 20,
    "start_time": "2023-07-20T08:09:10.636Z"
   },
   {
    "duration": 18,
    "start_time": "2023-07-20T08:10:04.073Z"
   },
   {
    "duration": 20,
    "start_time": "2023-07-20T08:10:36.064Z"
   },
   {
    "duration": 21,
    "start_time": "2023-07-20T08:10:51.967Z"
   },
   {
    "duration": 25,
    "start_time": "2023-07-20T08:11:43.739Z"
   },
   {
    "duration": 14,
    "start_time": "2023-07-20T08:12:02.130Z"
   },
   {
    "duration": 184,
    "start_time": "2023-07-20T08:12:16.865Z"
   },
   {
    "duration": 322,
    "start_time": "2023-07-20T08:12:28.473Z"
   },
   {
    "duration": 543,
    "start_time": "2023-07-21T15:33:42.552Z"
   },
   {
    "duration": 5,
    "start_time": "2023-07-21T15:33:43.134Z"
   },
   {
    "duration": 6139,
    "start_time": "2023-07-21T15:33:47.223Z"
   },
   {
    "duration": 24,
    "start_time": "2023-07-21T15:33:53.364Z"
   },
   {
    "duration": 17,
    "start_time": "2023-07-21T15:34:15.959Z"
   },
   {
    "duration": 17,
    "start_time": "2023-07-21T15:34:30.526Z"
   },
   {
    "duration": 19,
    "start_time": "2023-07-21T15:35:01.426Z"
   },
   {
    "duration": 16,
    "start_time": "2023-07-21T15:35:15.990Z"
   },
   {
    "duration": 137,
    "start_time": "2023-07-21T15:35:25.942Z"
   },
   {
    "duration": 43,
    "start_time": "2023-07-21T15:36:05.183Z"
   },
   {
    "duration": 11,
    "start_time": "2023-07-21T15:36:21.671Z"
   },
   {
    "duration": 7,
    "start_time": "2023-07-21T15:36:32.869Z"
   },
   {
    "duration": 99,
    "start_time": "2023-07-21T15:40:25.159Z"
   },
   {
    "duration": 100,
    "start_time": "2023-07-21T15:40:48.647Z"
   },
   {
    "duration": 5153,
    "start_time": "2023-07-21T15:41:17.723Z"
   },
   {
    "duration": 20,
    "start_time": "2023-07-21T15:41:32.973Z"
   },
   {
    "duration": 3,
    "start_time": "2023-07-21T15:41:49.845Z"
   },
   {
    "duration": 514,
    "start_time": "2023-07-21T15:41:59.019Z"
   },
   {
    "duration": 76,
    "start_time": "2023-07-21T15:42:09.044Z"
   },
   {
    "duration": 89,
    "start_time": "2023-07-21T15:42:32.454Z"
   },
   {
    "duration": 4248,
    "start_time": "2023-07-21T15:43:18.612Z"
   }
  ],
  "kernelspec": {
   "display_name": "Python 3 (ipykernel)",
   "language": "python",
   "name": "python3"
  },
  "language_info": {
   "codemirror_mode": {
    "name": "ipython",
    "version": 3
   },
   "file_extension": ".py",
   "mimetype": "text/x-python",
   "name": "python",
   "nbconvert_exporter": "python",
   "pygments_lexer": "ipython3",
   "version": "3.9.13"
  },
  "toc": {
   "base_numbering": 1,
   "nav_menu": {},
   "number_sections": true,
   "sideBar": true,
   "skip_h1_title": true,
   "title_cell": "Table of Contents",
   "title_sidebar": "Contents",
   "toc_cell": false,
   "toc_position": {},
   "toc_section_display": true,
   "toc_window_display": false
  },
  "varInspector": {
   "cols": {
    "lenName": 16,
    "lenType": 16,
    "lenVar": 40
   },
   "kernels_config": {
    "python": {
     "delete_cmd_postfix": "",
     "delete_cmd_prefix": "del ",
     "library": "var_list.py",
     "varRefreshCmd": "print(var_dic_list())"
    },
    "r": {
     "delete_cmd_postfix": ") ",
     "delete_cmd_prefix": "rm(",
     "library": "var_list.r",
     "varRefreshCmd": "cat(var_dic_list()) "
    }
   },
   "types_to_exclude": [
    "module",
    "function",
    "builtin_function_or_method",
    "instance",
    "_Feature"
   ],
   "window_display": false
  }
 },
 "nbformat": 4,
 "nbformat_minor": 5
}
